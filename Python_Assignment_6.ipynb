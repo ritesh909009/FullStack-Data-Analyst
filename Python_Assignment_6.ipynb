{
  "cells": [
    {
      "cell_type": "markdown",
      "id": "84a41a9f",
      "metadata": {
        "id": "84a41a9f"
      },
      "source": [
        "# Programming Basic Assignment 6"
      ]
    },
    {
      "cell_type": "markdown",
      "id": "a4b40558",
      "metadata": {
        "id": "a4b40558"
      },
      "source": [
        "### 1. Write a Python Program to Display Fibonacci Sequence Using Recursion?"
      ]
    },
    {
      "cell_type": "code",
      "source": [
        "def recur_fibo(n):\n",
        "  if n <= 1 :\n",
        "    return n\n",
        "  else:\n",
        "    return(recur_fibo(n-1) + recur_fibo(n-2))\n",
        "\n",
        "nterms = 10\n",
        "\n",
        "if nterms <= 0 :\n",
        "  print(\"Please enter a positive integer \")\n",
        "else:\n",
        "  print(\"Fibonacci sequence: \")\n",
        "  for i in range(nterms):\n",
        "    print(recur_fibo(i))"
      ],
      "metadata": {
        "id": "b3m-JF37J6Sl",
        "outputId": "5a80f4a2-888c-4778-9fbb-599b17a77a16",
        "colab": {
          "base_uri": "https://localhost:8080/"
        }
      },
      "id": "b3m-JF37J6Sl",
      "execution_count": 3,
      "outputs": [
        {
          "output_type": "stream",
          "name": "stdout",
          "text": [
            "Fibonacci sequence: \n",
            "0\n",
            "1\n",
            "1\n",
            "2\n",
            "3\n",
            "5\n",
            "8\n",
            "13\n",
            "21\n",
            "34\n"
          ]
        }
      ]
    },
    {
      "cell_type": "markdown",
      "id": "d7a57f60",
      "metadata": {
        "id": "d7a57f60"
      },
      "source": [
        "### 2. Write a Python Program to Find Factorial of Number Using Recursion?"
      ]
    },
    {
      "cell_type": "code",
      "source": [
        "def recur_factorial(n):\n",
        "  if n == 1 :\n",
        "    return n\n",
        "  else :\n",
        "    return n*recur_factorial(n-1)\n",
        "\n",
        "num = 8\n",
        "if num < 0 :\n",
        "  print(\"Sorry, factorial does not exist for negative numbers \")\n",
        "elif num == 0 :\n",
        "  print(\"The factorial of 0 is 1 \")\n",
        "else:\n",
        "  print(\"The factorial of \", num, \"is\", recur_factorial(num))"
      ],
      "metadata": {
        "id": "vFc9EgasLUgF",
        "outputId": "85e484d3-8476-4da0-e0d0-49c896dbdc53",
        "colab": {
          "base_uri": "https://localhost:8080/"
        }
      },
      "id": "vFc9EgasLUgF",
      "execution_count": 6,
      "outputs": [
        {
          "output_type": "stream",
          "name": "stdout",
          "text": [
            "The factorial of  8 is 40320\n"
          ]
        }
      ]
    },
    {
      "cell_type": "markdown",
      "id": "0357b86f",
      "metadata": {
        "id": "0357b86f"
      },
      "source": [
        "### 3. Write a Python Program to calculate your Body Mass Index?"
      ]
    },
    {
      "cell_type": "code",
      "source": [
        "height = float(input(\"Enter your height in cm: \"))\n",
        "weight = float(input(\"Enter your weight in kg: \"))\n",
        "BMI = weight / (height/100)**2.\n",
        "print(f\"You BMI is {BMI}\")"
      ],
      "metadata": {
        "id": "wEIlkXK5NLI7",
        "outputId": "a74fff41-7448-48f7-8ff1-2e84591505bb",
        "colab": {
          "base_uri": "https://localhost:8080/"
        }
      },
      "id": "wEIlkXK5NLI7",
      "execution_count": 7,
      "outputs": [
        {
          "output_type": "stream",
          "name": "stdout",
          "text": [
            "Enter your height in cm: 176\n",
            "Enter your weight in kg: 93\n",
            "You BMI is 30.023243801652892\n"
          ]
        }
      ]
    },
    {
      "cell_type": "markdown",
      "id": "96d344a4",
      "metadata": {
        "id": "96d344a4"
      },
      "source": [
        "### 4. Write a Python Program to calculate the natural logarithm of any number?"
      ]
    },
    {
      "cell_type": "code",
      "source": [
        "import math\n",
        "print( math.log(2.5, 16))"
      ],
      "metadata": {
        "id": "iNujN3CrOCub",
        "outputId": "1ac63ad4-2cc3-4489-ce24-05de34acb9c2",
        "colab": {
          "base_uri": "https://localhost:8080/"
        }
      },
      "id": "iNujN3CrOCub",
      "execution_count": 9,
      "outputs": [
        {
          "output_type": "stream",
          "name": "stdout",
          "text": [
            "0.3304820237218406\n"
          ]
        }
      ]
    },
    {
      "cell_type": "markdown",
      "id": "11c0d92c",
      "metadata": {
        "id": "11c0d92c"
      },
      "source": [
        "\n",
        "### 5. Write a Python Program for cube sum of first n natural numbers?\n"
      ]
    },
    {
      "cell_type": "code",
      "source": [
        "def sumOfSeries(n):\n",
        "   sum = 0\n",
        "   for i in range(1, n+1):\n",
        "      sum +=i*i*i\n",
        "   return sum\n",
        "# Driver Function\n",
        "n = 3\n",
        "print(sumOfSeries(n))"
      ],
      "metadata": {
        "id": "BKAlv-KnPEbR",
        "outputId": "28835151-69e7-43da-e28a-a816500efeb7",
        "colab": {
          "base_uri": "https://localhost:8080/"
        }
      },
      "id": "BKAlv-KnPEbR",
      "execution_count": 10,
      "outputs": [
        {
          "output_type": "stream",
          "name": "stdout",
          "text": [
            "36\n"
          ]
        }
      ]
    }
  ],
  "metadata": {
    "kernelspec": {
      "display_name": "Python 3 (ipykernel)",
      "language": "python",
      "name": "python3"
    },
    "language_info": {
      "codemirror_mode": {
        "name": "ipython",
        "version": 3
      },
      "file_extension": ".py",
      "mimetype": "text/x-python",
      "name": "python",
      "nbconvert_exporter": "python",
      "pygments_lexer": "ipython3",
      "version": "3.9.12"
    },
    "colab": {
      "provenance": []
    }
  },
  "nbformat": 4,
  "nbformat_minor": 5
}