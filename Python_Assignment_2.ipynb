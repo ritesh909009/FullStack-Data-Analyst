{
  "cells": [
    {
      "cell_type": "markdown",
      "id": "08c66ea5",
      "metadata": {
        "id": "08c66ea5"
      },
      "source": [
        "## Programming Assignment_2\n",
        "-------------"
      ]
    },
    {
      "cell_type": "markdown",
      "id": "4e50cf42",
      "metadata": {
        "id": "4e50cf42"
      },
      "source": [
        "### 1. Write a Python program to convert kilometers to miles?\n"
      ]
    },
    {
      "cell_type": "markdown",
      "id": "0df4e6bf",
      "metadata": {
        "id": "0df4e6bf"
      },
      "source": [
        "### 2.Write a Python program to convert Celsius to Fahrenheit?"
      ]
    },
    {
      "cell_type": "markdown",
      "id": "46129b8e",
      "metadata": {
        "id": "46129b8e"
      },
      "source": [
        "### 3. Write a Python program to display calendar?\n"
      ]
    },
    {
      "cell_type": "markdown",
      "id": "db2bf0f7",
      "metadata": {
        "id": "db2bf0f7"
      },
      "source": [
        "### 4. Write a Python program to solve quadratic equation?"
      ]
    },
    {
      "cell_type": "markdown",
      "id": "f70f74c9",
      "metadata": {
        "id": "f70f74c9"
      },
      "source": [
        "### 5. Write a Python program to swap two variables without temp variable?"
      ]
    },
    {
      "cell_type": "code",
      "source": [
        "#.1. Write a Python program to convert kilometers to miles?\n",
        "\n",
        "kilometers = float(input(\"Enter value in kilometers: \"))\n",
        "\n",
        "# conversion factor\n",
        "conv_fac = 0.621371\n",
        "\n",
        "miles = kilometers * conv_fac\n",
        "print('%0.2f kilometers is equal to %0.2f miles' %(kilometers,miles))"
      ],
      "metadata": {
        "id": "5uF316NnX820",
        "outputId": "c072a1e1-96ac-434e-89ca-d2cc33057d9d",
        "colab": {
          "base_uri": "https://localhost:8080/"
        }
      },
      "id": "5uF316NnX820",
      "execution_count": 1,
      "outputs": [
        {
          "output_type": "stream",
          "name": "stdout",
          "text": [
            "Enter value in kilometers: 45\n",
            "45.00 kilometers is equal to 27.96 miles\n"
          ]
        }
      ]
    },
    {
      "cell_type": "code",
      "source": [],
      "metadata": {
        "id": "Oku7mxZudM4c"
      },
      "id": "Oku7mxZudM4c",
      "execution_count": null,
      "outputs": []
    },
    {
      "cell_type": "code",
      "source": [
        "#.2.Write a Python program to convert Celsius to Fahrenheit?\n",
        "\n",
        "celsius = 18\n",
        "\n",
        "# calculate fahrenheit\n",
        "fahrenheit = (celsius * 1.8) + 32\n",
        "print('%0.1f degree Celsius is equal to %0.1f degree Fahrenheit' %(celsius,fahrenheit))\n"
      ],
      "metadata": {
        "id": "D3NLEkgRYcrS",
        "outputId": "772c6a39-3554-4735-9a5e-75edfe5bda6f",
        "colab": {
          "base_uri": "https://localhost:8080/"
        }
      },
      "id": "D3NLEkgRYcrS",
      "execution_count": 4,
      "outputs": [
        {
          "output_type": "stream",
          "name": "stdout",
          "text": [
            "18.0 degree Celsius is equal to 64.4 degree Fahrenheit\n"
          ]
        }
      ]
    },
    {
      "cell_type": "code",
      "source": [
        "#.  Write a Python program to display calendar?\n",
        "\n",
        "import calendar\n",
        "yy = int(input(\"Enter year: \"))\n",
        "mm = int(input(\"Enter month: \"))\n",
        " \n",
        "print(calendar.month(yy, mm))\n"
      ],
      "metadata": {
        "id": "I2myiwDiZAru",
        "outputId": "0024c543-56f3-4c7e-c17f-57d25f4bb0fc",
        "colab": {
          "base_uri": "https://localhost:8080/"
        }
      },
      "id": "I2myiwDiZAru",
      "execution_count": 7,
      "outputs": [
        {
          "output_type": "stream",
          "name": "stdout",
          "text": [
            "Enter year: 1995\n",
            "Enter month: 5\n",
            "      May 1995\n",
            "Mo Tu We Th Fr Sa Su\n",
            " 1  2  3  4  5  6  7\n",
            " 8  9 10 11 12 13 14\n",
            "15 16 17 18 19 20 21\n",
            "22 23 24 25 26 27 28\n",
            "29 30 31\n",
            "\n"
          ]
        }
      ]
    },
    {
      "cell_type": "code",
      "source": [
        "# 4. Write a Python program to solve quadratic equation?\n",
        "\n",
        "import cmath\n",
        "\n",
        "a = 1\n",
        "b = 5\n",
        "c = 6\n",
        "\n",
        "d = (b**2) - (4*a*c)\n",
        "\n",
        "\n",
        "sol1 = (-b-cmath.sqrt(d))/(2*a)\n",
        "sol2 = (-b+cmath.sqrt(d))/(2*a)\n",
        "\n",
        "print('The solution are {0} and {1}'.format(sol1,sol2))\n"
      ],
      "metadata": {
        "id": "RhGndx3OaG3p",
        "outputId": "4ff800c9-33c5-42fc-de13-bf3f4266f8bc",
        "colab": {
          "base_uri": "https://localhost:8080/"
        }
      },
      "id": "RhGndx3OaG3p",
      "execution_count": 8,
      "outputs": [
        {
          "output_type": "stream",
          "name": "stdout",
          "text": [
            "The solution are (-3+0j) and (-2+0j)\n"
          ]
        }
      ]
    },
    {
      "cell_type": "code",
      "source": [
        "#.  Write a Python program to swap two variables without temp variable?\n",
        "# Python program to swap two variables\n",
        "\n",
        "x = 10\n",
        "y = 100\n",
        "\n",
        "\n",
        "max = x\n",
        "x = y\n",
        "y = max\n",
        "\n",
        "print('The value of x after swapping: {}'.format(x))\n",
        "print('The value of y after swapping: {}'.format(y))\n"
      ],
      "metadata": {
        "id": "DyzfBQB1dPyx",
        "outputId": "1255bcd7-6c59-4a04-c6e9-6212a71bb578",
        "colab": {
          "base_uri": "https://localhost:8080/"
        }
      },
      "id": "DyzfBQB1dPyx",
      "execution_count": 24,
      "outputs": [
        {
          "output_type": "stream",
          "name": "stdout",
          "text": [
            "The value of x after swapping: 100\n",
            "The value of y after swapping: 10\n"
          ]
        }
      ]
    }
  ],
  "metadata": {
    "kernelspec": {
      "display_name": "Python 3 (ipykernel)",
      "language": "python",
      "name": "python3"
    },
    "language_info": {
      "codemirror_mode": {
        "name": "ipython",
        "version": 3
      },
      "file_extension": ".py",
      "mimetype": "text/x-python",
      "name": "python",
      "nbconvert_exporter": "python",
      "pygments_lexer": "ipython3",
      "version": "3.9.12"
    },
    "colab": {
      "provenance": []
    }
  },
  "nbformat": 4,
  "nbformat_minor": 5
}