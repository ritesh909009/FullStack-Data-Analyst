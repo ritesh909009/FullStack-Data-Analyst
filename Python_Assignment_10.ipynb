{
  "cells": [
    {
      "cell_type": "markdown",
      "id": "3dcb940f",
      "metadata": {
        "id": "3dcb940f"
      },
      "source": [
        "## Python Basic Programming Assignment 10"
      ]
    },
    {
      "cell_type": "markdown",
      "id": "6720790a",
      "metadata": {
        "id": "6720790a"
      },
      "source": [
        "### 1. Write a Python program to find sum of elements in list?"
      ]
    },
    {
      "cell_type": "code",
      "source": [
        "# sum of elements\n",
        "\n",
        "def sumlist(list):\n",
        "    sum=0\n",
        "    for i in range(len(list)):\n",
        "        sum = sum+list[i]\n",
        "    return sum\n",
        "\n",
        "#initialise list\n",
        "list = [10,33,45,66,76]\n",
        "print(list)\n",
        "print(\"sum of list: \",sumlist(list))"
      ],
      "metadata": {
        "id": "ssvs-sxkeXr3",
        "outputId": "eb2210fc-506b-4842-c7fc-5c33474d8c8e",
        "colab": {
          "base_uri": "https://localhost:8080/"
        }
      },
      "id": "ssvs-sxkeXr3",
      "execution_count": 2,
      "outputs": [
        {
          "output_type": "stream",
          "name": "stdout",
          "text": [
            "[10, 33, 45, 66, 76]\n",
            "sum of list:  230\n"
          ]
        }
      ]
    },
    {
      "cell_type": "markdown",
      "id": "fe1137c3",
      "metadata": {
        "id": "fe1137c3"
      },
      "source": [
        "### 2. Write a Python program to  Multiply all numbers in the list?"
      ]
    },
    {
      "cell_type": "code",
      "source": [
        "def mul_list(list):\n",
        "  product = 1\n",
        "  for i in list :\n",
        "    product = product * i\n",
        "  return product\n",
        "\n",
        "list1 = [12,12,4,3]\n",
        "print(list1)\n",
        "print(\"product:\")\n",
        "print(mul_list(list1))"
      ],
      "metadata": {
        "id": "g4GYuzqP-_In",
        "outputId": "63d8154f-12b0-43b3-cca2-f9f96ff023e5",
        "colab": {
          "base_uri": "https://localhost:8080/"
        }
      },
      "id": "g4GYuzqP-_In",
      "execution_count": 2,
      "outputs": [
        {
          "output_type": "stream",
          "name": "stdout",
          "text": [
            "[12, 12, 4, 3]\n",
            "product:\n",
            "1728\n"
          ]
        }
      ]
    },
    {
      "cell_type": "markdown",
      "id": "078681db",
      "metadata": {
        "id": "078681db"
      },
      "source": [
        "### 3. Write a Python program to find smallest number in a list?"
      ]
    },
    {
      "cell_type": "code",
      "source": [
        "list = [24,5,6,89,0,1,22,34,45,56,78]\n",
        "\n",
        "smallest = min(list)\n",
        "\n",
        "print(f'smallest number in the list is :{smallest} ')"
      ],
      "metadata": {
        "id": "DP9V26TpAHpL",
        "outputId": "fb6c49c8-0dd0-4be1-a771-b575db36a3f3",
        "colab": {
          "base_uri": "https://localhost:8080/"
        }
      },
      "id": "DP9V26TpAHpL",
      "execution_count": 5,
      "outputs": [
        {
          "output_type": "stream",
          "name": "stdout",
          "text": [
            "smallest number in the list is :0 \n"
          ]
        }
      ]
    },
    {
      "cell_type": "markdown",
      "id": "12b04397",
      "metadata": {
        "id": "12b04397"
      },
      "source": [
        "### 4. Write a Python program to find largest number in a list?"
      ]
    },
    {
      "cell_type": "code",
      "source": [
        "S = [33,44,22,11,44,53,80,74,564875]\n",
        "\n",
        "largest = max(S)\n",
        "print(f'largest number in the list is :{largest}')"
      ],
      "metadata": {
        "id": "kg2I4R6YAt4o",
        "outputId": "270af8fd-15ec-41af-ff61-c458fe5783d4",
        "colab": {
          "base_uri": "https://localhost:8080/"
        }
      },
      "id": "kg2I4R6YAt4o",
      "execution_count": 7,
      "outputs": [
        {
          "output_type": "stream",
          "name": "stdout",
          "text": [
            "largest number in the list is :564875\n"
          ]
        }
      ]
    },
    {
      "cell_type": "markdown",
      "id": "86442b51",
      "metadata": {
        "id": "86442b51"
      },
      "source": [
        "### 5. Write a Python program to find second largest number in a list?"
      ]
    },
    {
      "cell_type": "code",
      "source": [
        " \n",
        "list1 = [10, 20, 20, 4, 45, 45, 45, 98, 99]\n",
        " \n",
        "list1.sort()\n",
        " \n",
        "print(\"Second largest element is:\", list1[-2])\n",
        "print(\"Second largest element is:\", list1[-3])"
      ],
      "metadata": {
        "id": "19WNynMpBClQ",
        "outputId": "e785a31e-1eed-4ad3-8761-a70526208743",
        "colab": {
          "base_uri": "https://localhost:8080/"
        }
      },
      "id": "19WNynMpBClQ",
      "execution_count": 13,
      "outputs": [
        {
          "output_type": "stream",
          "name": "stdout",
          "text": [
            "Second largest element is: 98\n",
            "Second largest element is: 45\n"
          ]
        }
      ]
    },
    {
      "cell_type": "markdown",
      "id": "10964d7d",
      "metadata": {
        "id": "10964d7d"
      },
      "source": [
        "### 6. Write a Python program to find N largest elements from a list?"
      ]
    },
    {
      "cell_type": "code",
      "source": [
        "\n",
        "\n",
        "def N_max_elements(list, N):\n",
        "    result_list = []\n",
        "  \n",
        "    for i in range(0, N): \n",
        "        maximum = 0\n",
        "          \n",
        "        for j in range(len(list)):     \n",
        "            if list[j] > maximum:\n",
        "                maximum = list[j]\n",
        "                  \n",
        "        list.remove(maximum)\n",
        "        result_list.append(maximum)\n",
        "          \n",
        "    return result_list\n",
        "  \n",
        "list1 = [2, 6, 41, 85, 0, 3, 7, 6, 100]\n",
        "N = 2\n",
        "\n",
        "print(N, \"max elements in \",list1)\n",
        "print(N_max_elements(list1, N))"
      ],
      "metadata": {
        "id": "360g5B4PCWRq",
        "outputId": "3392bc37-dd57-4b0b-e9eb-61525edde585",
        "colab": {
          "base_uri": "https://localhost:8080/"
        }
      },
      "id": "360g5B4PCWRq",
      "execution_count": 15,
      "outputs": [
        {
          "output_type": "stream",
          "name": "stdout",
          "text": [
            "2 max elements in  [2, 6, 41, 85, 0, 3, 7, 6, 100]\n",
            "[100, 85]\n"
          ]
        }
      ]
    },
    {
      "cell_type": "markdown",
      "id": "2f1a1e98",
      "metadata": {
        "id": "2f1a1e98"
      },
      "source": [
        "### 7. Write a Python program to print even numbers in a list?"
      ]
    },
    {
      "cell_type": "code",
      "source": [
        "Number = int(input(\"enter the number \"))\n",
        "if Number % 2 == 0 :\n",
        "  print(\"Number, is even \")\n",
        "else:\n",
        "  print(\"Number, entered number is\")\n"
      ],
      "metadata": {
        "id": "T1YPPEAvECwc",
        "outputId": "e005a6b1-8f37-4f72-bead-bf670d7023df",
        "colab": {
          "base_uri": "https://localhost:8080/"
        }
      },
      "id": "T1YPPEAvECwc",
      "execution_count": 26,
      "outputs": [
        {
          "output_type": "stream",
          "name": "stdout",
          "text": [
            "enter the number 88\n",
            "Number, is even \n"
          ]
        }
      ]
    },
    {
      "cell_type": "markdown",
      "id": "989bb324",
      "metadata": {
        "id": "989bb324"
      },
      "source": [
        "### 8. Write a Python program to print odd numbers in a List?"
      ]
    },
    {
      "cell_type": "code",
      "source": [
        "Number = int(input(\"enter the number \"))\n",
        "if Number % 1 == 0 :\n",
        "  print(\"Number, is odd \")\n",
        "else:\n",
        "  print(\"Number, entered number is\")\n"
      ],
      "metadata": {
        "id": "ge19e4RMFEF1",
        "outputId": "0bcf8f55-e73f-4e1f-8e43-28682103cdde",
        "colab": {
          "base_uri": "https://localhost:8080/"
        }
      },
      "id": "ge19e4RMFEF1",
      "execution_count": 27,
      "outputs": [
        {
          "output_type": "stream",
          "name": "stdout",
          "text": [
            "enter the number 3\n",
            "Number, is odd \n"
          ]
        }
      ]
    },
    {
      "cell_type": "markdown",
      "id": "185b7b13",
      "metadata": {
        "id": "185b7b13"
      },
      "source": [
        "### 9. Write a Python program to Remove empty List from List?"
      ]
    },
    {
      "cell_type": "code",
      "source": [
        "\n",
        "\n",
        "listofList = [[5], [54, 545,9], [], [1, 4, 7], [], [8, 2, 5] ]\n",
        "\n",
        "print(\"List of List = \", end = \" \")\n",
        "print(listofList)\n",
        "\n",
        "nonEmptyList = [] \n",
        "\n",
        "nonEmptyList = [listEle for listEle in listofList if listEle != []]\n",
        "\n",
        "print(\"List without empty list: \", end = \" \" )\n",
        "print(nonEmptyList)\n"
      ],
      "metadata": {
        "id": "Bb4x0eFJH5nE",
        "outputId": "cbad60f1-9f24-4f1a-aded-42d084821de6",
        "colab": {
          "base_uri": "https://localhost:8080/"
        }
      },
      "id": "Bb4x0eFJH5nE",
      "execution_count": 28,
      "outputs": [
        {
          "output_type": "stream",
          "name": "stdout",
          "text": [
            "List of List =  [[5], [54, 545, 9], [], [1, 4, 7], [], [8, 2, 5]]\n",
            "List without empty list:  [[5], [54, 545, 9], [1, 4, 7], [8, 2, 5]]\n"
          ]
        }
      ]
    },
    {
      "cell_type": "markdown",
      "id": "278cfacc",
      "metadata": {
        "id": "278cfacc"
      },
      "source": [
        "### 10. Write a Python program to Cloning or Copying a list?"
      ]
    },
    {
      "cell_type": "code",
      "source": [
        "my_list = [1, 2, 3, 4, 5]\n",
        "copy_list = my_list\n",
        "print('Old List: ', my_list)\n",
        "print('New List: ', copy_list)"
      ],
      "metadata": {
        "id": "Z6M4hlPULV5Y",
        "outputId": "45e24adf-9fea-4497-8783-40bfd4d5a373",
        "colab": {
          "base_uri": "https://localhost:8080/"
        }
      },
      "id": "Z6M4hlPULV5Y",
      "execution_count": 29,
      "outputs": [
        {
          "output_type": "stream",
          "name": "stdout",
          "text": [
            "Old List:  [1, 2, 3, 4, 5]\n",
            "New List:  [1, 2, 3, 4, 5]\n"
          ]
        }
      ]
    },
    {
      "cell_type": "markdown",
      "id": "b359bedf",
      "metadata": {
        "id": "b359bedf"
      },
      "source": [
        "### 11. Write a Python program to Count occurrences of an element in a list?"
      ]
    },
    {
      "cell_type": "code",
      "source": [
        "#occurrences in list\n",
        "\n",
        "#function for counting\n",
        "def count_occurrence(list, n):\n",
        "    \n",
        "#counter variable\n",
        "    count=0\n",
        "    for i in list:\n",
        "        if(i==n):\n",
        "         \n",
        "            count=count+1\n",
        "    return count\n",
        "\n",
        "li=[]\n",
        "n=int(input(\"Enter size of list \"))\n",
        "for i in range(0,n):\n",
        "    e=int(input(\"Enter element of list \"))\n",
        "    li.append(e)\n",
        "print(\"Original list: \",li)\n",
        "\n",
        "x=int(input(\"Enter element to be checked list: \"))\n",
        "\n",
        "print(x,\" has occurred \",count_occurrence(li, x),\"times\")"
      ],
      "metadata": {
        "id": "_vO4hmIAL-Gy",
        "outputId": "889de63b-8c53-4da9-9a7f-9788c23e616d",
        "colab": {
          "base_uri": "https://localhost:8080/"
        }
      },
      "id": "_vO4hmIAL-Gy",
      "execution_count": null,
      "outputs": [
        {
          "name": "stdout",
          "output_type": "stream",
          "text": [
            "Enter size of list 8787676\n",
            "Enter element of list 776564\n",
            "Enter element of list 77867556\n",
            "Enter element of list 89767656\n"
          ]
        }
      ]
    },
    {
      "cell_type": "code",
      "source": [],
      "metadata": {
        "id": "uMLftR31MH5n"
      },
      "id": "uMLftR31MH5n",
      "execution_count": null,
      "outputs": []
    }
  ],
  "metadata": {
    "kernelspec": {
      "display_name": "Python 3 (ipykernel)",
      "language": "python",
      "name": "python3"
    },
    "language_info": {
      "codemirror_mode": {
        "name": "ipython",
        "version": 3
      },
      "file_extension": ".py",
      "mimetype": "text/x-python",
      "name": "python",
      "nbconvert_exporter": "python",
      "pygments_lexer": "ipython3",
      "version": "3.9.12"
    },
    "colab": {
      "provenance": []
    }
  },
  "nbformat": 4,
  "nbformat_minor": 5
}