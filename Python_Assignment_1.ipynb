{
  "cells": [
    {
      "cell_type": "markdown",
      "id": "637b47a5",
      "metadata": {
        "id": "637b47a5"
      },
      "source": [
        "## Programming Assignment_1\n",
        "-------------"
      ]
    },
    {
      "cell_type": "markdown",
      "id": "0c647dbe",
      "metadata": {
        "id": "0c647dbe"
      },
      "source": [
        "### 1. Write a Python program to print \"Hello Python\"?"
      ]
    },
    {
      "cell_type": "markdown",
      "id": "fc18a6cd",
      "metadata": {
        "id": "fc18a6cd"
      },
      "source": [
        "### 2. Write a Python program to do arithmetical operations addition and division.?\n"
      ]
    },
    {
      "cell_type": "markdown",
      "id": "af6e2429",
      "metadata": {
        "id": "af6e2429"
      },
      "source": [
        "### 3. Write a Python program to find the area of a triangle?\n"
      ]
    },
    {
      "cell_type": "markdown",
      "id": "b8140061",
      "metadata": {
        "id": "b8140061"
      },
      "source": [
        "### 4. Write a Python program to swap two variables?\n"
      ]
    },
    {
      "cell_type": "markdown",
      "id": "3f8054c1",
      "metadata": {
        "id": "3f8054c1"
      },
      "source": [
        "### 5. Write a Python program to generate a random number?\n"
      ]
    },
    {
      "cell_type": "code",
      "source": [
        "import numpy as np \n",
        "import pandas as pd"
      ],
      "metadata": {
        "id": "vbyuCG-AWQNA"
      },
      "id": "vbyuCG-AWQNA",
      "execution_count": 12,
      "outputs": []
    },
    {
      "cell_type": "code",
      "source": [
        "#1. Write a Python program to print \"Hello Python\"?\n",
        "print(\"hello\")"
      ],
      "metadata": {
        "id": "I3NaPkolS84h",
        "outputId": "26d85483-992b-4ab6-c95d-26605ff34697",
        "colab": {
          "base_uri": "https://localhost:8080/"
        }
      },
      "id": "I3NaPkolS84h",
      "execution_count": 2,
      "outputs": [
        {
          "output_type": "stream",
          "name": "stdout",
          "text": [
            "hello\n"
          ]
        }
      ]
    },
    {
      "cell_type": "code",
      "source": [
        "#2. Write a Python program to do arithmetical operations addition and division.?\n",
        "a = 10\n",
        "b = 15\n",
        "\n",
        "print(a + b) \n",
        "print(a / b)"
      ],
      "metadata": {
        "id": "JySZvbgOTGsk",
        "outputId": "ce5d8157-0162-4240-d46e-007220db298d",
        "colab": {
          "base_uri": "https://localhost:8080/"
        }
      },
      "id": "JySZvbgOTGsk",
      "execution_count": 7,
      "outputs": [
        {
          "output_type": "stream",
          "name": "stdout",
          "text": [
            "25\n",
            "0.6666666666666666\n"
          ]
        }
      ]
    },
    {
      "cell_type": "code",
      "source": [
        "#3. Write a Python program to find the area of a triangle?\n",
        "\n",
        "number = int(input(\"enter the triangle\"))\n",
        "\n",
        "for i in range(number):\n",
        "  print(\"@\"*i)"
      ],
      "metadata": {
        "id": "IHz1_6LJTc9-",
        "outputId": "8fa1316b-5491-46fb-e4c3-375e825819cb",
        "colab": {
          "base_uri": "https://localhost:8080/"
        }
      },
      "id": "IHz1_6LJTc9-",
      "execution_count": 9,
      "outputs": [
        {
          "output_type": "stream",
          "name": "stdout",
          "text": [
            "enter the triangle6\n",
            "\n",
            "@\n",
            "@@\n",
            "@@@\n",
            "@@@@\n",
            "@@@@@\n"
          ]
        }
      ]
    },
    {
      "cell_type": "code",
      "source": [
        " # 4.Write a Python program to swap two variables?\n",
        " x = 20\n",
        " y = 10\n",
        "\n",
        " x = y \n",
        " print(y)\n",
        " print(x)"
      ],
      "metadata": {
        "id": "H2g82SdgTeu6",
        "outputId": "f29efbdb-c747-4c0a-e74d-117939967fd3",
        "colab": {
          "base_uri": "https://localhost:8080/"
        }
      },
      "id": "H2g82SdgTeu6",
      "execution_count": 11,
      "outputs": [
        {
          "output_type": "stream",
          "name": "stdout",
          "text": [
            "10\n",
            "10\n"
          ]
        }
      ]
    },
    {
      "cell_type": "code",
      "source": [
        "#. 5. Write a Python program to generate a random number?\n",
        "import random\n",
        "random.randint(1,10)"
      ],
      "metadata": {
        "id": "4K8G1FxAV_uI",
        "outputId": "c44ece7d-8e79-4764-a87d-252c32796739",
        "colab": {
          "base_uri": "https://localhost:8080/"
        }
      },
      "id": "4K8G1FxAV_uI",
      "execution_count": 16,
      "outputs": [
        {
          "output_type": "execute_result",
          "data": {
            "text/plain": [
              "3"
            ]
          },
          "metadata": {},
          "execution_count": 16
        }
      ]
    },
    {
      "cell_type": "code",
      "source": [],
      "metadata": {
        "id": "V-xFoiSeWddG"
      },
      "id": "V-xFoiSeWddG",
      "execution_count": null,
      "outputs": []
    }
  ],
  "metadata": {
    "kernelspec": {
      "display_name": "Python 3 (ipykernel)",
      "language": "python",
      "name": "python3"
    },
    "language_info": {
      "codemirror_mode": {
        "name": "ipython",
        "version": 3
      },
      "file_extension": ".py",
      "mimetype": "text/x-python",
      "name": "python",
      "nbconvert_exporter": "python",
      "pygments_lexer": "ipython3",
      "version": "3.9.12"
    },
    "colab": {
      "provenance": []
    }
  },
  "nbformat": 4,
  "nbformat_minor": 5
}