{
  "cells": [
    {
      "cell_type": "markdown",
      "id": "35297a20",
      "metadata": {
        "id": "35297a20"
      },
      "source": [
        "## Programming Basic Assignment 7"
      ]
    },
    {
      "cell_type": "markdown",
      "id": "27349114",
      "metadata": {
        "id": "27349114"
      },
      "source": [
        "### 1. Write a Python Program to find sum of array?"
      ]
    },
    {
      "cell_type": "code",
      "source": [
        "import array as ar\n",
        "\n",
        "def SumofArray(arr):\n",
        "    sum = 0\n",
        "    n = len(arr)\n",
        "    for i in range(n):\n",
        "        sum = sum + arr[i]\n",
        "    return sum\n",
        "  \n",
        "a = ar.array('i',[10, 21, 12, 13])\n",
        "  \n",
        "print ('Sum of the array is ', SumofArray(a) ) "
      ],
      "metadata": {
        "id": "6s6j9VmRRMx7",
        "outputId": "4de33154-c46b-4222-f688-77e14c1bcc38",
        "colab": {
          "base_uri": "https://localhost:8080/"
        }
      },
      "id": "6s6j9VmRRMx7",
      "execution_count": 1,
      "outputs": [
        {
          "output_type": "stream",
          "name": "stdout",
          "text": [
            "Sum of the array is  56\n"
          ]
        }
      ]
    },
    {
      "cell_type": "code",
      "source": [],
      "metadata": {
        "id": "sk5yi33iSkr5"
      },
      "id": "sk5yi33iSkr5",
      "execution_count": null,
      "outputs": []
    },
    {
      "cell_type": "markdown",
      "id": "171a980d",
      "metadata": {
        "id": "171a980d"
      },
      "source": [
        "### 2. Write a Python Program to find largest element in an array?\n"
      ]
    },
    {
      "cell_type": "code",
      "source": [
        "import array as arr\n",
        "\n",
        "numbers_list = [2, 5, 62, 5, 42, 52, 48, 5]\n",
        "numbers_array = arr.array('i', numbers_list)\n",
        "\n",
        "print(numbers_array[2:5])\n",
        "print(numbers_array[:-5]) \n",
        "print(numbers_array[5:])  \n",
        "print(numbers_array[:])  "
      ],
      "metadata": {
        "id": "UjY0_KaUTTWo",
        "outputId": "6af60032-ab77-4610-890e-e3bd3551682d",
        "colab": {
          "base_uri": "https://localhost:8080/"
        }
      },
      "id": "UjY0_KaUTTWo",
      "execution_count": 8,
      "outputs": [
        {
          "output_type": "stream",
          "name": "stdout",
          "text": [
            "array('i', [62, 5, 42])\n",
            "array('i', [2, 5, 62])\n",
            "array('i', [52, 48, 5])\n",
            "array('i', [2, 5, 62, 5, 42, 52, 48, 5])\n"
          ]
        }
      ]
    },
    {
      "cell_type": "code",
      "source": [],
      "metadata": {
        "id": "hjh2R3wDTR4M"
      },
      "id": "hjh2R3wDTR4M",
      "execution_count": null,
      "outputs": []
    },
    {
      "cell_type": "markdown",
      "id": "21613246",
      "metadata": {
        "id": "21613246"
      },
      "source": [
        "### 3. Write a Python Program for array rotation?"
      ]
    },
    {
      "cell_type": "code",
      "source": [
        "def rotateArray(a,d):\n",
        "    temp = []\n",
        "    n=len(a)\n",
        "    for i in range(d,n):\n",
        "        temp.append(a[i])\n",
        "    i = 0\n",
        "    for i in range (0,d):\n",
        "        temp.append(a[i])\n",
        "    a=temp.copy()\n",
        "    return a\n",
        " \n",
        "arr = [1, 2, 3, 4, 5, 6, 7]\n",
        "print(\"Array after left rotation is: \", end=' ')\n",
        "print(rotateArray(arr, 2))"
      ],
      "metadata": {
        "id": "1Qroz_4QUNu-",
        "outputId": "66638ba0-3ab7-4f9b-bd90-dd378e9a2ba4",
        "colab": {
          "base_uri": "https://localhost:8080/"
        }
      },
      "id": "1Qroz_4QUNu-",
      "execution_count": 10,
      "outputs": [
        {
          "output_type": "stream",
          "name": "stdout",
          "text": [
            "Array after left rotation is:  [3, 4, 5, 6, 7, 1, 2]\n"
          ]
        }
      ]
    },
    {
      "cell_type": "markdown",
      "id": "3e52d939",
      "metadata": {
        "id": "3e52d939"
      },
      "source": [
        "### 4. Write a Python Program to Split the array and add the first part to the end?"
      ]
    },
    {
      "cell_type": "code",
      "source": [
        "def SplitArray(arr, n, k):\n",
        "\tfor i in range(0, k):\n",
        "\t\tx = arr[0]\n",
        "\t\tfor j in range(0, n-1):\n",
        "\t\t\tarr[j] = arr[j + 1]\n",
        "\t\t\n",
        "\t\tarr[n-1] = x\t\t\n",
        "arr = [15, 40, 15, 16, 50, 36]\n",
        "n = len(arr)\n",
        "position = 2\n",
        "SplitArray(arr, n, position)\n",
        "for i in range(0, n):\n",
        "\tprint(arr[i], end = ' ')"
      ],
      "metadata": {
        "id": "YMk_r3lOU_Tl",
        "outputId": "0946de9e-ba10-4461-e5cb-8dc7446e874f",
        "colab": {
          "base_uri": "https://localhost:8080/"
        }
      },
      "id": "YMk_r3lOU_Tl",
      "execution_count": 11,
      "outputs": [
        {
          "output_type": "stream",
          "name": "stdout",
          "text": [
            "15 16 50 36 15 40 "
          ]
        }
      ]
    },
    {
      "cell_type": "markdown",
      "id": "aa375779",
      "metadata": {
        "id": "aa375779"
      },
      "source": [
        "### 5. Write a Python Program to check if given array is Monotonic?"
      ]
    },
    {
      "cell_type": "code",
      "source": [
        "#check if monotone\n",
        "#function definition\n",
        "def ismonotone(a):\n",
        "    n=len(a) #size of array\n",
        "    if n==1:\n",
        "        return True\n",
        "    else:\n",
        "        #check for monotone behaviour\n",
        "        if all(a[i]>=a[i+1] for i in range(0,n-1) or a[i]<=a[i+1] for i in range(0,n-1)):\n",
        "            return True\n",
        "        else:\n",
        "            return False\n",
        "\n",
        "A = [6, 5, 4, 2]\n",
        "print(ismonotone(A))\n",
        "b = [6, 2, 4, 2]\n",
        "print(ismonotone(b))\n",
        "c=[4,3,2]\n",
        "print(ismonotone(c))\n",
        "d=[1]\n",
        "print(ismonotone(d))\n",
        "\n"
      ],
      "metadata": {
        "id": "uzSMM4w0VRXz",
        "outputId": "645dd0f5-fbfc-4ee4-9669-1cb1ae074bb4",
        "colab": {
          "base_uri": "https://localhost:8080/"
        }
      },
      "id": "uzSMM4w0VRXz",
      "execution_count": 12,
      "outputs": [
        {
          "output_type": "stream",
          "name": "stdout",
          "text": [
            "True\n",
            "False\n",
            "True\n",
            "True\n"
          ]
        }
      ]
    },
    {
      "cell_type": "code",
      "source": [],
      "metadata": {
        "id": "-dfnhhNfVSlE"
      },
      "id": "-dfnhhNfVSlE",
      "execution_count": null,
      "outputs": []
    }
  ],
  "metadata": {
    "kernelspec": {
      "display_name": "Python 3 (ipykernel)",
      "language": "python",
      "name": "python3"
    },
    "language_info": {
      "codemirror_mode": {
        "name": "ipython",
        "version": 3
      },
      "file_extension": ".py",
      "mimetype": "text/x-python",
      "name": "python",
      "nbconvert_exporter": "python",
      "pygments_lexer": "ipython3",
      "version": "3.9.12"
    },
    "colab": {
      "provenance": []
    }
  },
  "nbformat": 4,
  "nbformat_minor": 5
}