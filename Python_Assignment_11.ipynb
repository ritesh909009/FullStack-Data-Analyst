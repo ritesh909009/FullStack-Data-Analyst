{
  "cells": [
    {
      "cell_type": "markdown",
      "id": "53c7e882",
      "metadata": {
        "id": "53c7e882"
      },
      "source": [
        "# Python Basic Programming Assignment 11\n",
        "--------------------"
      ]
    },
    {
      "cell_type": "markdown",
      "id": "051da140",
      "metadata": {
        "id": "051da140"
      },
      "source": [
        "### 1. Write a Python program to find words which are greater than given length k?"
      ]
    },
    {
      "cell_type": "code",
      "source": [
        "def word_k(k, s):    \n",
        "    word = s.split(\" \")\n",
        "    for x in word:\n",
        "        if len(x)>k:\n",
        "          print(x)\n",
        "k = 3\n",
        "s =\"Python is good\"\n",
        "word_k(k, s)"
      ],
      "metadata": {
        "id": "zgrxUf5qN-q5",
        "outputId": "28d74e72-2aed-48ce-8061-827f7f9895f2",
        "colab": {
          "base_uri": "https://localhost:8080/"
        }
      },
      "id": "zgrxUf5qN-q5",
      "execution_count": 1,
      "outputs": [
        {
          "output_type": "stream",
          "name": "stdout",
          "text": [
            "Python\n",
            "good\n"
          ]
        }
      ]
    },
    {
      "cell_type": "markdown",
      "id": "26719cbd",
      "metadata": {
        "id": "26719cbd"
      },
      "source": [
        "### 2. Write a Python program for removing i-th character from a string?"
      ]
    },
    {
      "cell_type": "code",
      "source": [
        "def remove_char(s, i):\n",
        "    a = s[ : i]\n",
        "    b = s[i + 1: ]\n",
        "\n",
        "    return a+b\n",
        "\n",
        "string = \"Saiisgood\"\n",
        "i = 5\n",
        "print(remove_char(string,i-1))\n"
      ],
      "metadata": {
        "id": "6QQN2filOwsS",
        "outputId": "76e767f2-7cc8-45d1-96ec-0a2a383c232f",
        "colab": {
          "base_uri": "https://localhost:8080/"
        }
      },
      "id": "6QQN2filOwsS",
      "execution_count": 4,
      "outputs": [
        {
          "output_type": "stream",
          "name": "stdout",
          "text": [
            "Saiigood\n"
          ]
        }
      ]
    },
    {
      "cell_type": "markdown",
      "id": "51ae6b0f",
      "metadata": {
        "id": "51ae6b0f"
      },
      "source": [
        "### 3. Write a Python program to split and join a string?"
      ]
    },
    {
      "cell_type": "code",
      "source": [
        "def splitting(str):\n",
        "  \n",
        "    list = str.split(' ')\n",
        "    return list\n",
        "def joining(list):\n",
        "  str = '-'.join(list)\n",
        "  return str\n",
        "str = 'Once in a blue moon'\n",
        "list = splitting(str)\n",
        "print(\"The string after splitting is: \",list)\n",
        "restoring = joining(list)\n",
        "print(\"The string after joining is: \",restoring)\n"
      ],
      "metadata": {
        "id": "bwf1EZNGPPn2",
        "outputId": "1a6a92cb-5a10-41ed-c40a-4b2c8b555268",
        "colab": {
          "base_uri": "https://localhost:8080/"
        }
      },
      "id": "bwf1EZNGPPn2",
      "execution_count": 8,
      "outputs": [
        {
          "output_type": "stream",
          "name": "stdout",
          "text": [
            "The string after splitting is:  ['Once', 'in', 'a', 'blue', 'moon']\n",
            "The string after joining is:  Once-in-a-blue-moon\n"
          ]
        }
      ]
    },
    {
      "cell_type": "markdown",
      "id": "59079fe1",
      "metadata": {
        "id": "59079fe1"
      },
      "source": [
        "### 4. Write a Python to check if a given string is binary string or not?"
      ]
    },
    {
      "cell_type": "code",
      "source": [
        "def check(string) :\n",
        "    b = set(string)\n",
        "    s = {'0', '1'}\n",
        "    if s == b or b == {'0'} or b == {'1'}:\n",
        "        print(\"Binary String\")\n",
        "    else :\n",
        "        print(\"Non Binary String\")\n",
        "  \n",
        "s1= \"00110101\"\n",
        "check(s1)\n",
        "s2 = \"1010100200111\"\n",
        "check(s2)"
      ],
      "metadata": {
        "id": "HE3v7d_1PqZB",
        "outputId": "dc1fd9a5-f55c-4881-9d13-0fffc62eb9ba",
        "colab": {
          "base_uri": "https://localhost:8080/"
        }
      },
      "id": "HE3v7d_1PqZB",
      "execution_count": 9,
      "outputs": [
        {
          "output_type": "stream",
          "name": "stdout",
          "text": [
            "Binary String\n",
            "Non Binary String\n"
          ]
        }
      ]
    },
    {
      "cell_type": "markdown",
      "id": "4d6cf11a",
      "metadata": {
        "id": "4d6cf11a"
      },
      "source": [
        "### 5. Write a Python program to find uncommon words from two Strings?"
      ]
    },
    {
      "cell_type": "code",
      "source": [
        "def uncommon_words(s1, s2):\n",
        "    count = {}\n",
        "    for word in s1.split():\n",
        "        count[word] = count.get(word, 0) + 1\n",
        "    # words of string s2\n",
        "    for word in s2.split():\n",
        "        count[word] = count.get(word, 0) + 1\n",
        "    # return required list of words\n",
        "    return [word for word in count if count[word] == 1]\n",
        "\n",
        "s1=\"Studytonight\"\n",
        "s2=\"Welcome to Studytonight\"\n",
        "  \n",
        "# Print required answer\n",
        "print(uncommon_words(s1, s2))\n"
      ],
      "metadata": {
        "id": "b3caJ_PAP1Ac",
        "outputId": "70988963-0693-4924-cc9b-3792518a8620",
        "colab": {
          "base_uri": "https://localhost:8080/"
        }
      },
      "id": "b3caJ_PAP1Ac",
      "execution_count": 10,
      "outputs": [
        {
          "output_type": "stream",
          "name": "stdout",
          "text": [
            "['Welcome', 'to']\n"
          ]
        }
      ]
    },
    {
      "cell_type": "markdown",
      "id": "e2b24677",
      "metadata": {
        "id": "e2b24677"
      },
      "source": [
        "### 6. Write a Python to find all duplicate characters in string?"
      ]
    },
    {
      "cell_type": "code",
      "source": [
        "string = \"Welcome to TutorialsPoint family\";\n",
        "print(\"All the duplicate characters in the string are: \"); \n",
        "\n",
        "for s in range(0, len(string)): \n",
        "   count = 1; \n",
        "   for t in range(s+1, len(string)):\n",
        "      if(string[s] == string[t] and string[s] != ' '): \n",
        "         count = count + 1; \n",
        "   string = string[:t] + '0' + string[t+1:]; \n",
        "   \n",
        "   if(count > 1 and string[s] != '0'): \n",
        "      print(string[s],\" - \",count);"
      ],
      "metadata": {
        "id": "n8Pcnu5WQJ5k",
        "outputId": "5e9e54cc-b73c-4986-de2d-f9bd9e199e42",
        "colab": {
          "base_uri": "https://localhost:8080/"
        }
      },
      "id": "n8Pcnu5WQJ5k",
      "execution_count": 11,
      "outputs": [
        {
          "output_type": "stream",
          "name": "stdout",
          "text": [
            "All the duplicate characters in the string are: \n",
            "e  -  2\n",
            "l  -  3\n",
            "o  -  4\n",
            "m  -  2\n",
            "t  -  3\n",
            "o  -  3\n",
            "t  -  2\n",
            "o  -  2\n",
            "i  -  3\n",
            "a  -  2\n",
            "l  -  2\n",
            "i  -  2\n"
          ]
        }
      ]
    },
    {
      "cell_type": "markdown",
      "id": "1a6af7e4",
      "metadata": {
        "id": "1a6af7e4"
      },
      "source": [
        "### 7. Write a Python Program to check if a string contains any special character?"
      ]
    },
    {
      "cell_type": "code",
      "source": [
        "import re\n",
        "\n",
        "def find(string):\n",
        "    special_char=re.compile('[@_!$%^&*()<>?/\\|}{~:]#')\n",
        "    \n",
        "    if special_char.search(string) == None:\n",
        "        return \"string is accepted\"\n",
        "    else:\n",
        "        return \"string not accpeted\"\n",
        "   \n",
        "\n",
        "s=\"Hello15\"\n",
        "print(s)\n",
        "print(find(s))"
      ],
      "metadata": {
        "id": "f1aUlmxmQiUp",
        "outputId": "aaf94c01-d344-41f8-ec40-59c206d3d42d",
        "colab": {
          "base_uri": "https://localhost:8080/"
        }
      },
      "id": "f1aUlmxmQiUp",
      "execution_count": 12,
      "outputs": [
        {
          "output_type": "stream",
          "name": "stdout",
          "text": [
            "Hello15\n",
            "string is accepted\n"
          ]
        }
      ]
    },
    {
      "cell_type": "code",
      "source": [],
      "metadata": {
        "id": "gjKVMseVQlgn"
      },
      "id": "gjKVMseVQlgn",
      "execution_count": null,
      "outputs": []
    }
  ],
  "metadata": {
    "kernelspec": {
      "display_name": "Python 3 (ipykernel)",
      "language": "python",
      "name": "python3"
    },
    "language_info": {
      "codemirror_mode": {
        "name": "ipython",
        "version": 3
      },
      "file_extension": ".py",
      "mimetype": "text/x-python",
      "name": "python",
      "nbconvert_exporter": "python",
      "pygments_lexer": "ipython3",
      "version": "3.9.12"
    },
    "colab": {
      "provenance": []
    }
  },
  "nbformat": 4,
  "nbformat_minor": 5
}