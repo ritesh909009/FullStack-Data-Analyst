{
  "cells": [
    {
      "cell_type": "markdown",
      "id": "47b9bb99",
      "metadata": {
        "id": "47b9bb99"
      },
      "source": [
        "## Programming Assignment_9\n",
        "----------------"
      ]
    },
    {
      "cell_type": "markdown",
      "id": "c725f7a9",
      "metadata": {
        "id": "c725f7a9"
      },
      "source": [
        "### 1. Write a Python program to check if the given number is a Disarium Number?"
      ]
    },
    {
      "cell_type": "code",
      "source": [
        "def is_disarium(num):\n",
        "    temp = 0\n",
        "    for i in range(len(str(num))):\n",
        "        temp += int(str(num)[i]) ** (i + 1)\n",
        "    return temp == num\n",
        "\n",
        "num = 25\n",
        "print(\"\\nIs\",num,\"is Disarium number?\",is_disarium(num))\n",
        "num = 89\n",
        "print(\"\\nIs\",num,\"is Disarium number?\",is_disarium(num))\n",
        "num = 75\n",
        "print(\"\\nIs\",num,\"is Disarium number?\",is_disarium(num))\n",
        "num = 125\n",
        "print(\"\\nIs\",num,\"is Disarium number?\",is_disarium(num)) \n",
        "num = 518\n",
        "print(\"\\nIs\",num,\"is Disarium number?\",is_disarium(num))\n"
      ],
      "metadata": {
        "id": "GEWDJAxqK095",
        "outputId": "c67edb10-4796-490b-8c2b-a1538d3cf557",
        "colab": {
          "base_uri": "https://localhost:8080/"
        }
      },
      "id": "GEWDJAxqK095",
      "execution_count": 5,
      "outputs": [
        {
          "output_type": "stream",
          "name": "stdout",
          "text": [
            "\n",
            "Is 25 is Disarium number? False\n",
            "\n",
            "Is 89 is Disarium number? True\n",
            "\n",
            "Is 75 is Disarium number? False\n",
            "\n",
            "Is 125 is Disarium number? False\n",
            "\n",
            "Is 518 is Disarium number? True\n"
          ]
        }
      ]
    },
    {
      "cell_type": "markdown",
      "id": "f0064401",
      "metadata": {
        "id": "f0064401"
      },
      "source": [
        "### 2. Write a Python program to print all disarium numbers between 1 to 100?"
      ]
    },
    {
      "cell_type": "code",
      "source": [
        "def calculateLength(n):    \n",
        "    length = 0;    \n",
        "    while(n != 0):    \n",
        "        length = length + 1;    \n",
        "        n = n//10;    \n",
        "    return length;    \n",
        "\n",
        "def sumOfDigits(num):    \n",
        "    rem = sum = 0;    \n",
        "    len = calculateLength(num);    \n",
        "        \n",
        "    while(num > 0):    \n",
        "        rem = num%10;    \n",
        "        sum = sum + (rem**len);    \n",
        "        num = num//10;    \n",
        "        len = len - 1;    \n",
        "    return sum;    \n",
        "      \n",
        "result = 0;    \n",
        "        \n",
        "print(\"Disarium numbers between 1 and 100 are\");    \n",
        "for i in range(1, 101):    \n",
        "    result = sumOfDigits(i);    \n",
        "        \n",
        "    if(result == i):    \n",
        "        print(i),    "
      ],
      "metadata": {
        "id": "IwY2PsouLfzu",
        "outputId": "28469d64-7bac-46ec-b454-9eb0543601c8",
        "colab": {
          "base_uri": "https://localhost:8080/"
        }
      },
      "id": "IwY2PsouLfzu",
      "execution_count": 8,
      "outputs": [
        {
          "output_type": "stream",
          "name": "stdout",
          "text": [
            "Disarium numbers between 1 and 100 are\n",
            "1\n",
            "2\n",
            "3\n",
            "4\n",
            "5\n",
            "6\n",
            "7\n",
            "8\n",
            "9\n",
            "89\n"
          ]
        }
      ]
    },
    {
      "cell_type": "markdown",
      "id": "31df1e4a",
      "metadata": {
        "id": "31df1e4a"
      },
      "source": [
        "### 3. Write a Python program to check if the given number is Happy Number?"
      ]
    },
    {
      "cell_type": "code",
      "source": [
        "def is_Happy_num(n):\n",
        "  past = set()\n",
        "  while n != 1:\n",
        "        n = sum(int(i)**2 for i in str(n))\n",
        "        if n in past:\n",
        "            return False\n",
        "        past.add(n)\n",
        "  return True\n",
        "print(is_Happy_num(7))\n",
        "print(is_Happy_num(932))\n",
        "print(is_Happy_num(6))\n"
      ],
      "metadata": {
        "id": "a9FeD_JBMDOw",
        "outputId": "b46569b1-06fb-4ba0-80bd-16f03107384f",
        "colab": {
          "base_uri": "https://localhost:8080/"
        }
      },
      "id": "a9FeD_JBMDOw",
      "execution_count": 9,
      "outputs": [
        {
          "output_type": "stream",
          "name": "stdout",
          "text": [
            "True\n",
            "True\n",
            "False\n"
          ]
        }
      ]
    },
    {
      "cell_type": "markdown",
      "id": "51b265e3",
      "metadata": {
        "id": "51b265e3"
      },
      "source": [
        "### 4. Write a Python program to print all happy numbers between 1 and 100?"
      ]
    },
    {
      "cell_type": "code",
      "source": [
        "def isHappyNumber(num):    \n",
        "    rem = sum = 0;    \n",
        "        \n",
        "    \n",
        "    while(num > 0):    \n",
        "        rem = num%10;    \n",
        "        sum = sum + (rem*rem);    \n",
        "        num = num//10;    \n",
        "    return sum;    \n",
        "                \n",
        "print(\"List of happy numbers between 1 and 100: \");    \n",
        "for i in range(1, 101):    \n",
        "    result = i;    \n",
        "           \n",
        "    while(result != 1 and result != 4):    \n",
        "        result = isHappyNumber(result);    \n",
        "        \n",
        "    if(result == 1):    \n",
        "        print(i),    \n",
        "        print(\" \"),    "
      ],
      "metadata": {
        "id": "qj8sFeajNLCj",
        "outputId": "f1941e1a-600a-45be-d560-dd4ecb6318fe",
        "colab": {
          "base_uri": "https://localhost:8080/"
        }
      },
      "id": "qj8sFeajNLCj",
      "execution_count": 13,
      "outputs": [
        {
          "output_type": "stream",
          "name": "stdout",
          "text": [
            "List of happy numbers between 1 and 100: \n",
            "1\n",
            " \n",
            "7\n",
            " \n",
            "10\n",
            " \n",
            "13\n",
            " \n",
            "19\n",
            " \n",
            "23\n",
            " \n",
            "28\n",
            " \n",
            "31\n",
            " \n",
            "32\n",
            " \n",
            "44\n",
            " \n",
            "49\n",
            " \n",
            "68\n",
            " \n",
            "70\n",
            " \n",
            "79\n",
            " \n",
            "82\n",
            " \n",
            "86\n",
            " \n",
            "91\n",
            " \n",
            "94\n",
            " \n",
            "97\n",
            " \n",
            "100\n",
            " \n"
          ]
        }
      ]
    },
    {
      "cell_type": "markdown",
      "id": "6a190ee0",
      "metadata": {
        "id": "6a190ee0"
      },
      "source": [
        "### 5. Write a Python program to determine whether the given number is a Harshad Number?"
      ]
    },
    {
      "cell_type": "code",
      "source": [
        "num = int(input(\"Ask the user to enter number \"))    \n",
        "rem = sum = 0;    \n",
        "         \n",
        "n = num;    \n",
        "      \n",
        "while(num > 0):    \n",
        "    rem = num%10;    \n",
        "    sum = sum + rem;    \n",
        "    num = num//10;    \n",
        "        \n",
        "if(n%sum == 0):    \n",
        "    print(str(n) + \" is a harshad number\");    \n",
        "else:    \n",
        "    print(str(n) + \" is not a harshad number\");    "
      ],
      "metadata": {
        "id": "2OGoNUYLMw-0",
        "outputId": "a8ce4ecd-2963-47bc-ff62-353f019aa502",
        "colab": {
          "base_uri": "https://localhost:8080/"
        }
      },
      "id": "2OGoNUYLMw-0",
      "execution_count": 12,
      "outputs": [
        {
          "output_type": "stream",
          "name": "stdout",
          "text": [
            "Ask the user to enter number 45\n",
            "45 is a harshad number\n"
          ]
        }
      ]
    },
    {
      "cell_type": "markdown",
      "id": "7a7ea92e",
      "metadata": {
        "id": "7a7ea92e"
      },
      "source": [
        "### 6. Write a Python program to print all pronic numbers between 1 and 100?"
      ]
    },
    {
      "cell_type": "code",
      "source": [
        "def isPronicNumber(num):    \n",
        "    flag = False;    \n",
        "        \n",
        "    for j in range(1, num+1):       \n",
        "        if((j*(j+1)) == num):    \n",
        "            flag = True;    \n",
        "            break;    \n",
        "    return flag;    \n",
        "        \n",
        "print(\"Pronic numbers between 1 and 100: \");    \n",
        "for i in range(1, 101):    \n",
        "    if(isPronicNumber(i)):    \n",
        "        print(i),    \n",
        "        print(\" \")    \n"
      ],
      "metadata": {
        "id": "c9HiIgxpNn4n",
        "outputId": "b33d8b24-f92d-45fc-f345-0bad7ea4ef87",
        "colab": {
          "base_uri": "https://localhost:8080/"
        }
      },
      "id": "c9HiIgxpNn4n",
      "execution_count": 18,
      "outputs": [
        {
          "output_type": "stream",
          "name": "stdout",
          "text": [
            "Pronic numbers between 1 and 100: \n",
            "2\n",
            " \n",
            "6\n",
            " \n",
            "12\n",
            " \n",
            "20\n",
            " \n",
            "30\n",
            " \n",
            "42\n",
            " \n",
            "56\n",
            " \n",
            "72\n",
            " \n",
            "90\n",
            " \n"
          ]
        }
      ]
    },
    {
      "cell_type": "code",
      "source": [],
      "metadata": {
        "id": "TS29XvwhNpDD"
      },
      "id": "TS29XvwhNpDD",
      "execution_count": null,
      "outputs": []
    }
  ],
  "metadata": {
    "kernelspec": {
      "display_name": "Python 3 (ipykernel)",
      "language": "python",
      "name": "python3"
    },
    "language_info": {
      "codemirror_mode": {
        "name": "ipython",
        "version": 3
      },
      "file_extension": ".py",
      "mimetype": "text/x-python",
      "name": "python",
      "nbconvert_exporter": "python",
      "pygments_lexer": "ipython3",
      "version": "3.9.12"
    },
    "colab": {
      "provenance": []
    }
  },
  "nbformat": 4,
  "nbformat_minor": 5
}