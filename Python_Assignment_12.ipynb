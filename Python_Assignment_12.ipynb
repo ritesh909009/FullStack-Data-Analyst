{
  "cells": [
    {
      "cell_type": "markdown",
      "id": "b7231b20",
      "metadata": {
        "id": "b7231b20"
      },
      "source": [
        "# Python Basic Programming Assignment 12\n",
        "-------------"
      ]
    },
    {
      "cell_type": "markdown",
      "id": "d2ec324d",
      "metadata": {
        "id": "d2ec324d"
      },
      "source": [
        "### 1. Write a Python program to Extract Unique values dictionary values?"
      ]
    },
    {
      "cell_type": "code",
      "source": [
        "\n",
        "test_dict = {'gfg': [5, 6, 7, 8],\n",
        "\t\t\t'is': [10, 11, 7, 5],\n",
        "\t\t\t'best': [6, 12, 10, 8],\n",
        "\t\t\t'for': [1, 2, 5]}\n",
        "\n",
        "print(\"The original dictionary is : \" + str(test_dict))\n",
        "\n",
        "res = list(sorted({ele for val in test_dict.values() for ele in val}))\n",
        "\n",
        "print(\"The unique values list is : \" + str(res))\n"
      ],
      "metadata": {
        "id": "plYnnZW1IsYa",
        "outputId": "43721ab8-3728-44dc-f3fa-19bada18be68",
        "colab": {
          "base_uri": "https://localhost:8080/"
        }
      },
      "id": "plYnnZW1IsYa",
      "execution_count": 1,
      "outputs": [
        {
          "output_type": "stream",
          "name": "stdout",
          "text": [
            "The original dictionary is : {'gfg': [5, 6, 7, 8], 'is': [10, 11, 7, 5], 'best': [6, 12, 10, 8], 'for': [1, 2, 5]}\n",
            "The unique values list is : [1, 2, 5, 6, 7, 8, 10, 11, 12]\n"
          ]
        }
      ]
    },
    {
      "cell_type": "markdown",
      "id": "203bcbc3",
      "metadata": {
        "id": "203bcbc3"
      },
      "source": [
        "### 2. Write a Python program to find the sum of all items in a dictionary?"
      ]
    },
    {
      "cell_type": "code",
      "source": [
        "pic = {'x':455, 'y':203, 'z':303, 's':999}\n",
        "\n",
        "print(\"dictonary:\", pic)\n",
        "print(\"sum: \",sum(pic.values()))"
      ],
      "metadata": {
        "id": "Z4jNRtX8Jm0B",
        "outputId": "8d1e0752-34c0-45f6-e593-ea0a98130623",
        "colab": {
          "base_uri": "https://localhost:8080/"
        }
      },
      "id": "Z4jNRtX8Jm0B",
      "execution_count": 5,
      "outputs": [
        {
          "output_type": "stream",
          "name": "stdout",
          "text": [
            "dictonary: {'x': 455, 'y': 203, 'z': 303, 's': 999}\n",
            "sum:  1960\n"
          ]
        }
      ]
    },
    {
      "cell_type": "markdown",
      "id": "edfbc682",
      "metadata": {
        "id": "edfbc682"
      },
      "source": [
        "### 3. Write a Python program to Merging two Dictionaries?"
      ]
    },
    {
      "cell_type": "code",
      "source": [
        "dict_1 = {1: 'a', 2: 'b'}\n",
        "dict_2 = {2: 'c', 4: 'd'}\n",
        "\n",
        "print({**dict_1, **dict_2})"
      ],
      "metadata": {
        "id": "lMyWPo6UK83o",
        "outputId": "13ac905b-9233-426f-fe59-3bfef94e3954",
        "colab": {
          "base_uri": "https://localhost:8080/"
        }
      },
      "id": "lMyWPo6UK83o",
      "execution_count": 7,
      "outputs": [
        {
          "output_type": "stream",
          "name": "stdout",
          "text": [
            "{1: 'a', 2: 'c', 4: 'd'}\n"
          ]
        }
      ]
    },
    {
      "cell_type": "markdown",
      "id": "62eaf687",
      "metadata": {
        "id": "62eaf687"
      },
      "source": [
        "### 4. Write a Python program to convert key-values list to flat dictionary?"
      ]
    },
    {
      "cell_type": "code",
      "source": [
        "dic= { \"day\": [1, 2, 3], \"name\": ['Mon', 'Tues', 'Wed' ] }\n",
        "print(\"Original dictionary: \",dic)\n",
        "\n",
        "\n",
        "f_dic= dict(zip(dic[\"day\"], dic[\"name\"]))\n",
        "print(\"FLATTENED DICTIONARY: \", f_dic)"
      ],
      "metadata": {
        "id": "nUZ7FaJxLJpJ",
        "outputId": "a1c8a6a1-d4cd-4fc9-b95c-a2ffce8aa38a",
        "colab": {
          "base_uri": "https://localhost:8080/"
        }
      },
      "id": "nUZ7FaJxLJpJ",
      "execution_count": 8,
      "outputs": [
        {
          "output_type": "stream",
          "name": "stdout",
          "text": [
            "Original dictionary:  {'day': [1, 2, 3], 'name': ['Mon', 'Tues', 'Wed']}\n",
            "FLATTENED DICTIONARY:  {1: 'Mon', 2: 'Tues', 3: 'Wed'}\n"
          ]
        }
      ]
    },
    {
      "cell_type": "markdown",
      "id": "fcc5015f",
      "metadata": {
        "id": "fcc5015f"
      },
      "source": [
        "### 5. Write a Python program to insertion at the beginning in OrderedDict?"
      ]
    },
    {
      "cell_type": "code",
      "source": [
        "from collections import OrderedDict\n",
        "dic1 = OrderedDict([('A', '100'), ('B', '200'), ('C', '300')])\n",
        "insrt = OrderedDict([(\"D\", '400')])\n",
        "  \n",
        "final = OrderedDict(list(insrt.items()) + list(dic1.items()))\n",
        "  \n",
        "print (\"Resultant Dictionary :\")\n",
        "print(final)"
      ],
      "metadata": {
        "id": "TjH3woQNLR1v",
        "outputId": "863273e2-38c4-41cb-cc41-bb7821dd89bf",
        "colab": {
          "base_uri": "https://localhost:8080/"
        }
      },
      "id": "TjH3woQNLR1v",
      "execution_count": 9,
      "outputs": [
        {
          "output_type": "stream",
          "name": "stdout",
          "text": [
            "Resultant Dictionary :\n",
            "OrderedDict([('D', '400'), ('A', '100'), ('B', '200'), ('C', '300')])\n"
          ]
        }
      ]
    },
    {
      "cell_type": "markdown",
      "id": "5978c9ab",
      "metadata": {
        "id": "5978c9ab"
      },
      "source": [
        "### 6. Write a Python program to check order of character in string using OrderedDict()?"
      ]
    },
    {
      "cell_type": "code",
      "source": [
        "\n",
        "def checkOrder(string, pattern): \n",
        "    dic = OrderedDict.fromkeys(string) \n",
        "    ptr = 0\n",
        "    for key,value in dic.items(): \n",
        "        if (key == pattern[ptr]): \n",
        "            ptr = ptr + 1\n",
        "        if (ptr == (len(pattern))): \n",
        "            return 'True'\n",
        "    return 'False'\n",
        "\n",
        "string = 'Study tonight'\n",
        "pattern = 'stu'\n",
        "print (checkOrder(string,pattern))\n",
        "\n",
        "string2= 'Welcome'\n",
        "pattern2= 'cm'\n",
        "print (checkOrder(string2,pattern2)) "
      ],
      "metadata": {
        "id": "WDryobW7L2GT",
        "outputId": "19427b0f-2bf0-4a21-d055-5786c20345f0",
        "colab": {
          "base_uri": "https://localhost:8080/"
        }
      },
      "id": "WDryobW7L2GT",
      "execution_count": 11,
      "outputs": [
        {
          "output_type": "stream",
          "name": "stdout",
          "text": [
            "False\n",
            "True\n"
          ]
        }
      ]
    },
    {
      "cell_type": "markdown",
      "id": "f330da77",
      "metadata": {
        "id": "f330da77"
      },
      "source": [
        "### 7. Write a Python program to sort Python Dictionaries by Key or Value?"
      ]
    },
    {
      "cell_type": "code",
      "source": [
        "key_value={}\n",
        "\n",
        "key_value[5] = 10      \n",
        "key_value[3] = 8\n",
        "key_value[6] = 77\n",
        "key_value[4] = 23\n",
        "key_value[2] = 9     \n",
        "key_value[1] = 43\n",
        "\n",
        "print(\"sorting on the basis of keys\")\n",
        "\n",
        "for i in sorted(key_value) :\n",
        "  print((i, key_value[i]), end = \" \")"
      ],
      "metadata": {
        "id": "DK6KVOzWMXEo",
        "outputId": "372493ce-0bab-4fcc-a0e1-3969577ab0b0",
        "colab": {
          "base_uri": "https://localhost:8080/"
        }
      },
      "id": "DK6KVOzWMXEo",
      "execution_count": 13,
      "outputs": [
        {
          "output_type": "stream",
          "name": "stdout",
          "text": [
            "sorting on the basis of keys\n",
            "(1, 43) (2, 9) (3, 8) (4, 23) (5, 10) (6, 77) "
          ]
        }
      ]
    },
    {
      "cell_type": "code",
      "source": [],
      "metadata": {
        "id": "uaUIcOqNMrod"
      },
      "id": "uaUIcOqNMrod",
      "execution_count": null,
      "outputs": []
    }
  ],
  "metadata": {
    "kernelspec": {
      "display_name": "Python 3 (ipykernel)",
      "language": "python",
      "name": "python3"
    },
    "language_info": {
      "codemirror_mode": {
        "name": "ipython",
        "version": 3
      },
      "file_extension": ".py",
      "mimetype": "text/x-python",
      "name": "python",
      "nbconvert_exporter": "python",
      "pygments_lexer": "ipython3",
      "version": "3.9.12"
    },
    "colab": {
      "provenance": []
    }
  },
  "nbformat": 4,
  "nbformat_minor": 5
}